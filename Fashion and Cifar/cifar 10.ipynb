{
 "cells": [
  {
   "attachments": {},
   "cell_type": "markdown",
   "metadata": {},
   "source": [
    "Prediction on the Cifar 10 case, with data augmentation and batch normalization"
   ]
  },
  {
   "cell_type": "code",
   "execution_count": 1,
   "metadata": {},
   "outputs": [
    {
     "name": "stdout",
     "output_type": "stream",
     "text": [
      "Downloading data from https://www.cs.toronto.edu/~kriz/cifar-10-python.tar.gz\n",
      "170498071/170498071 [==============================] - 25s 0us/step\n",
      "x_train.shape: (50000, 32, 32, 3)\n",
      "y_train.shape: (50000,)\n"
     ]
    }
   ],
   "source": [
    "import tensorflow as tf\n",
    "import numpy as np \n",
    "import matplotlib.pyplot as plt\n",
    "from tensorflow.keras.layers import Input, Conv2D, Dense, Flatten, MaxPooling2D, Dropout, BatchNormalization\n",
    "from tensorflow.keras.models import Model\n",
    "from tensorflow.keras.preprocessing.image import ImageDataGenerator\n",
    "\n",
    "cifar10 = tf.keras.datasets.cifar10\n",
    "\n",
    "(x_train, y_train),(x_test, y_test) = cifar10.load_data()\n",
    "x_train, x_test = x_train/255, x_test/255\n",
    "y_train, y_test = y_train.flatten(), y_test.flatten()\n",
    "print(\"x_train.shape:\", x_train.shape)\n",
    "print(\"y_train.shape:\", y_train.shape)"
   ]
  },
  {
   "cell_type": "code",
   "execution_count": 2,
   "metadata": {},
   "outputs": [
    {
     "name": "stdout",
     "output_type": "stream",
     "text": [
      "There are:  10  classes\n"
     ]
    }
   ],
   "source": [
    "# number of classes\n",
    "cl_num = len(set(y_train))\n",
    "print(\"There are: \", cl_num, \" classes\")"
   ]
  },
  {
   "cell_type": "code",
   "execution_count": null,
   "metadata": {},
   "outputs": [],
   "source": [
    "import matplotlib.pyplot as plt\n",
    "\n",
    "# model \n",
    "i = Input(shape=x_train[0].shape) # shape of first elem\n",
    "x = Conv2D(32, (3,3), activation='relu', padding='same')(i)\n",
    "x = BatchNormalization()(x)\n",
    "x = Conv2D(32, (3,3), activation='relu', padding='same')(i)\n",
    "x = BatchNormalization()(x)\n",
    "x = MaxPooling2D((2,2))(x)\n",
    "\n",
    "x = Conv2D(64, (3,3), activation='relu', padding='same')(x)\n",
    "x = BatchNormalization()(x)\n",
    "x = Conv2D(64, (3,3), activation='relu', padding='same')(x)\n",
    "x = BatchNormalization()(x)\n",
    "x = MaxPooling2D((2,2))(x)\n",
    "\n",
    "x = Conv2D(128, (3,3), activation='relu', padding='same')(x)\n",
    "x = BatchNormalization()(x)\n",
    "x = Conv2D(128, (3,3), activation='relu', padding='same')(x)\n",
    "x = BatchNormalization()(x)\n",
    "x = MaxPooling2D((2,2))(x)\n",
    "\n",
    "x = Flatten()(x)\n",
    "x = Dropout(0.4)(x)\n",
    "x = Dense(1024, activation='relu')(x)\n",
    "x = Dropout(0.2)(x)\n",
    "x = Dense(cl_num, activation='softmax')(x)\n",
    "\n",
    "model = Model(i, x)\n",
    "model.compile(optimizer='adam', loss='sparse_categorical_crossentropy', metric=[\"accuracy\"])\n",
    "\n",
    "batch_size = 32\n",
    "data_generator = tf.keras.preprocessing.image.ImageDataGenerator(width_shift_range=0.1, height_shift_range=0.1, horizontal_flip=True)\n",
    "train_generator = data_generator.flow(x_train, y_train, batch_size)\n",
    "steps_per_epoch = x_train.shape[0] // batch_size\n",
    "trained_model = model.fit_generator(train_generator, validation_data=(x_test, y_test),steps_per_epoch = steps_per_epoch, epochs = 15)\n",
    "\n",
    "# save model\n",
    "model.save('\\\\Fashion and Cifar\\\\fashion_model.h5')\n",
    "print('Model Saved!')\n",
    "\n",
    "# plotting the results\n",
    "plt.plot(trained_model.history['accuracy'], label='acc')\n",
    "plt.plot(trained_model.history['val_accuracy'], label='val_acc')\n",
    "plt.title('Accuracy plot')\n",
    "plt.legend()\n",
    "plt.show()\n",
    "\n",
    "plt.plot(trained_model.history['loss'], label='acc')\n",
    "plt.plot(trained_model.history['val_loss'], label='val_acc')\n",
    "plt.title('Loss plot')\n",
    "plt.legend()\n",
    "plt.show()"
   ]
  },
  {
   "cell_type": "code",
   "execution_count": null,
   "metadata": {},
   "outputs": [],
   "source": [
    "# plot misclassified examples to see if they make sense\n",
    "pre_test = model.predict(x_test).argmax(axis=1)\n",
    "wrong_class_idx = np.where( pre_test != y_test)[0]\n",
    "\n",
    "labels = '''airplane automobile bird cat deer dog frog horse ship truck'''.split()\n",
    "i = np.random.choice(wrong_class_idx)\n",
    "plt.imshow(x_test[i])\n",
    "plt.title(\"True Label: %s Predicted: %s\" % (labels[y_test[i]], labels[pre_test[i]]))"
   ]
  }
 ],
 "metadata": {
  "kernelspec": {
   "display_name": "Python 3",
   "language": "python",
   "name": "python3"
  },
  "language_info": {
   "codemirror_mode": {
    "name": "ipython",
    "version": 3
   },
   "file_extension": ".py",
   "mimetype": "text/x-python",
   "name": "python",
   "nbconvert_exporter": "python",
   "pygments_lexer": "ipython3",
   "version": "3.9.4"
  },
  "orig_nbformat": 4
 },
 "nbformat": 4,
 "nbformat_minor": 2
}
