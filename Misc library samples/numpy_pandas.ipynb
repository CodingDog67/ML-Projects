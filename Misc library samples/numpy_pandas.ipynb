{
 "cells": [
  {
   "cell_type": "code",
   "execution_count": 9,
   "metadata": {},
   "outputs": [],
   "source": [
    "import numpy as np\n",
    "import pandas as pd\n",
    "\n",
    "arr = np.array([0, 1, 2, 3, 4, 5, 6, 7, 8, 9])"
   ]
  },
  {
   "cell_type": "code",
   "execution_count": 4,
   "metadata": {},
   "outputs": [],
   "source": [
    "# create array from list\n",
    "avo = [1,3,4,6,3]\n",
    "np.array(avo)\n",
    "\n",
    "# all trues 3x3 array\n",
    "all_true = np.full((3,3), True, dtype=bool)\n",
    "\n",
    "# extract odd numbers from arr\n",
    "odd_num = arr[arr % 2 == 1]\n",
    "\n",
    "# replace all odd numbser from arr with -1 \n",
    "arr[arr % 2 == 1] = -1"
   ]
  },
  {
   "cell_type": "code",
   "execution_count": 25,
   "metadata": {},
   "outputs": [
    {
     "data": {
      "text/plain": [
       "array([1, 1, 1, 2, 2, 2, 3, 3, 3, 1, 2, 3, 1, 2, 3, 1, 2, 3])"
      ]
     },
     "execution_count": 25,
     "metadata": {},
     "output_type": "execute_result"
    }
   ],
   "source": [
    "# replacec without changing og array \n",
    "out = np.where(arr%2 == 1, -1, arr)   # if condition then a else b \n",
    "\n",
    "# reshape 1D into 2D with 2 rows\n",
    "a = np.arange(10)\n",
    "a = a.reshape(2,-1)\n",
    "\n",
    "# stack arrays a and b \n",
    "b = np.repeat(1, 10).reshape(2,-1)\n",
    "np.vstack((a, b))\n",
    "\n",
    "np.hstack((a, b))\n",
    "\n",
    "\n",
    "# repeat a pattern\n",
    "c = np.array([1,2,3])\n",
    "np.r_[(np.repeat(c,3), np.tile(c,3))] #Translates slice objects to concatenation along the first axis."
   ]
  },
  {
   "cell_type": "code",
   "execution_count": 45,
   "metadata": {},
   "outputs": [
    {
     "data": {
      "text/plain": [
       "array([0., 0., 0., 0., 0., 0., 0., 0., 0., 0.])"
      ]
     },
     "execution_count": 45,
     "metadata": {},
     "output_type": "execute_result"
    }
   ],
   "source": [
    "a = np.array([1,2,3,2,3,4,3,4,5,6])\n",
    "b = np.array([7,2,10,2,7,4,9,4,9,8])\n",
    "\n",
    "#find common items between a and b \n",
    "\n",
    "c = np.intersect1d(a, b)\n",
    "\n",
    "# delete all items from a present in b\n",
    "a = np.array([1,2,3,4,5])\n",
    "b = np.array([5,6,7,8,9])\n",
    "\n",
    "np.setdiff1d(a, b)\n",
    "\n",
    "# get position of matching elements \n",
    "a = np.array([1,2,3,2,3,4,3,4,5,6])\n",
    "b = np.array([7,2,10,2,7,4,9,4,9,8])\n",
    "np.where(a==b)\n",
    "\n",
    "# get all num between 5 and 10 \n",
    "np.where((a<=5) & (a>= 10))\n",
    "\n",
    "np.zeros(a.size)"
   ]
  },
  {
   "cell_type": "code",
   "execution_count": 63,
   "metadata": {},
   "outputs": [
    {
     "name": "stdout",
     "output_type": "stream",
     "text": [
      "[[0 1 2]\n",
      " [3 4 5]\n",
      " [6 7 8]]\n"
     ]
    },
    {
     "data": {
      "text/plain": [
       "array([[2, 1, 0],\n",
       "       [5, 4, 3],\n",
       "       [8, 7, 6]])"
      ]
     },
     "execution_count": 63,
     "metadata": {},
     "output_type": "execute_result"
    }
   ],
   "source": [
    "# function to do elementwise comparision and return the bigger value\n",
    "def maxx(x, y):\n",
    "    \"\"\"Get the maximum of two items\"\"\"\n",
    "    if x >= y:\n",
    "        return x\n",
    "    else:\n",
    "        return y\n",
    "\n",
    "a = np.array([5, 7, 9, 8, 6, 4, 5])\n",
    "b = np.array([6, 3, 4, 8, 9, 7, 1])\n",
    "\n",
    "# either\n",
    "np.maximum(a, b)\n",
    "\n",
    "# or\n",
    "pair_max = np.vectorize(maxx, otypes=[float])\n",
    "pair_max(a, b)\n",
    "\n",
    "# swap two columns in 3d array\n",
    "arr = np.arange(9).reshape(3,3)\n",
    "print(arr)\n",
    "arr[:, [1,0,2]]\n",
    "\n",
    "# swap two rows\n",
    "arr[[1,0,2],:]\n",
    "\n",
    "# flip the rows\n",
    "np.flip(arr, axis=1)\n",
    "#or\n",
    "arr[::-1]\n",
    "\n",
    "#reverse cols \n",
    "arr[:, ::-1]"
   ]
  },
  {
   "cell_type": "code",
   "execution_count": 64,
   "metadata": {},
   "outputs": [],
   "source": [
    "# create 2D, 5 x 3  array with rand numbers between 5 and 10 \n",
    "rand_arr = np.random.uniform(5, 10, size=(5,3))"
   ]
  }
 ],
 "metadata": {
  "kernelspec": {
   "display_name": "Python 3",
   "language": "python",
   "name": "python3"
  },
  "language_info": {
   "codemirror_mode": {
    "name": "ipython",
    "version": 3
   },
   "file_extension": ".py",
   "mimetype": "text/x-python",
   "name": "python",
   "nbconvert_exporter": "python",
   "pygments_lexer": "ipython3",
   "version": "3.9.0"
  },
  "orig_nbformat": 4
 },
 "nbformat": 4,
 "nbformat_minor": 2
}
