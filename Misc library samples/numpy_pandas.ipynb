{
 "cells": [
  {
   "cell_type": "code",
   "execution_count": null,
   "metadata": {},
   "outputs": [],
   "source": [
    "import numpy as np\n",
    "import pandas as pd\n",
    "\n",
    "arr = np.array([0, 1, 2, 3, 4, 5, 6, 7, 8, 9])\n",
    "\n",
    "url = 'https://archive.ics.uci.edu/ml/machine-learning-databases/iris/iris.data'\n",
    "iris = np.genfromtxt(url, delimiter=',', dtype='object')\n",
    "names = ('sepallength', 'sepalwidth', 'petallength', 'petalwidth', 'species')"
   ]
  },
  {
   "cell_type": "code",
   "execution_count": null,
   "metadata": {},
   "outputs": [],
   "source": [
    "# create array from list\n",
    "avo = [1,3,4,6,3]\n",
    "np.array(avo)\n",
    "\n",
    "# all trues 3x3 array\n",
    "all_true = np.full((3,3), True, dtype=bool)\n",
    "\n",
    "# extract odd numbers from arr\n",
    "odd_num = arr[arr % 2 == 1]\n",
    "\n",
    "# replace all odd numbser from arr with -1 \n",
    "arr[arr % 2 == 1] = -1"
   ]
  },
  {
   "cell_type": "code",
   "execution_count": null,
   "metadata": {},
   "outputs": [],
   "source": [
    "# replacec without changing og array \n",
    "out = np.where(arr%2 == 1, -1, arr)   # if condition then a else b \n",
    "\n",
    "# reshape 1D into 2D with 2 rows\n",
    "a = np.arange(10)\n",
    "a = a.reshape(2,-1)\n",
    "\n",
    "# stack arrays a and b \n",
    "b = np.repeat(1, 10).reshape(2,-1)\n",
    "np.vstack((a, b))\n",
    "\n",
    "np.hstack((a, b))\n",
    "\n",
    "\n",
    "# repeat a pattern\n",
    "c = np.array([1,2,3])\n",
    "np.r_[(np.repeat(c,3), np.tile(c,3))] #Translates slice objects to concatenation along the first axis."
   ]
  },
  {
   "cell_type": "code",
   "execution_count": null,
   "metadata": {},
   "outputs": [],
   "source": [
    "a = np.array([1,2,3,2,3,4,3,4,5,6])\n",
    "b = np.array([7,2,10,2,7,4,9,4,9,8])\n",
    "\n",
    "#find common items between a and b \n",
    "\n",
    "c = np.intersect1d(a, b)\n",
    "\n",
    "# delete all items from a present in b\n",
    "a = np.array([1,2,3,4,5])\n",
    "b = np.array([5,6,7,8,9])\n",
    "\n",
    "np.setdiff1d(a, b)\n",
    "\n",
    "# get position of matching elements \n",
    "a = np.array([1,2,3,2,3,4,3,4,5,6])\n",
    "b = np.array([7,2,10,2,7,4,9,4,9,8])\n",
    "np.where(a==b)\n",
    "\n",
    "# get all num between 5 and 10 \n",
    "np.where((a<=5) & (a>= 10))\n",
    "\n",
    "np.zeros(a.size)"
   ]
  },
  {
   "cell_type": "code",
   "execution_count": null,
   "metadata": {},
   "outputs": [],
   "source": [
    "# function to do elementwise comparision and return the bigger value\n",
    "def maxx(x, y):\n",
    "    \"\"\"Get the maximum of two items\"\"\"\n",
    "    if x >= y:\n",
    "        return x\n",
    "    else:\n",
    "        return y\n",
    "\n",
    "a = np.array([5, 7, 9, 8, 6, 4, 5])\n",
    "b = np.array([6, 3, 4, 8, 9, 7, 1])\n",
    "\n",
    "# either\n",
    "np.maximum(a, b)\n",
    "\n",
    "# or\n",
    "pair_max = np.vectorize(maxx, otypes=[float])\n",
    "pair_max(a, b)\n",
    "\n",
    "# swap two columns in 3d array\n",
    "arr = np.arange(9).reshape(3,3)\n",
    "print(arr)\n",
    "arr[:, [1,0,2]]\n",
    "\n",
    "# swap two rows\n",
    "arr[[1,0,2],:]\n",
    "\n",
    "# flip the rows\n",
    "np.flip(arr, axis=1)\n",
    "#or\n",
    "arr[::-1]\n",
    "\n",
    "#reverse cols \n",
    "arr[:, ::-1]"
   ]
  },
  {
   "cell_type": "code",
   "execution_count": null,
   "metadata": {},
   "outputs": [],
   "source": [
    "# create 2D, 5 x 3  array with rand numbers between 5 and 10 \n",
    "rand_arr = np.random.uniform(5, 10, size=(5,3))\n",
    "\n",
    "# print 3 decimal places in numpy array\n",
    "rand_arr = np.random.random((5,3))\n",
    "# suppress=False, to surpess scientific e-04 notions\n",
    "# threshold = n to print only n elements, np.nan to have no truncations\n",
    "np.set_printoptions(precision=2) \n",
    "rand_arr[4:]"
   ]
  },
  {
   "cell_type": "code",
   "execution_count": null,
   "metadata": {},
   "outputs": [],
   "source": [
    "# iris dataset\n",
    "\n",
    "# extract species col into a list\n",
    "iris_1d = iris[:, names.index('species')]\n",
    "\n",
    "# convert 1d iris to 2d array ommitin species\n",
    "iris_2d = np.genfromtxt(url, delimiter=',', dtype='float', usecols=[0,1,2,3])\n",
    "\n",
    "# find mean and std of sepallength (1st col)\n",
    "mean = np.mean(iris_2d[:,0])\n",
    "std = np.std(iris_2d[:,0])\n",
    "median = np.median(iris_2d[:,0])\n",
    "\n",
    "# normalize array sepallength so value range is between 0 and 1\n",
    "sepallength = iris_2d[:,0]\n",
    "sepallength = (sepallength - np.min(sepallength))/(np.max(sepallength)- np.min(sepallength))\n",
    "\n",
    "# softmax for each sets of scores in x\n",
    "def  softmax(x):\n",
    "    ex = np.exp(x-np.max(x))\n",
    "    softmax = ex / ex.sum(axis=0)\n",
    "\n",
    "    return softmax\n",
    "\n",
    "# percentile scores of sepallength \n",
    "np.percentile(sepallength, q=[5, 95])"
   ]
  },
  {
   "cell_type": "code",
   "execution_count": 40,
   "metadata": {},
   "outputs": [
    {
     "data": {
      "text/plain": [
       "(array([14, 34, 79, 87], dtype=int64),)"
      ]
     },
     "execution_count": 40,
     "metadata": {},
     "output_type": "execute_result"
    }
   ],
   "source": [
    "#insert nan values in 20 random positions \n",
    "iris_2d = np.genfromtxt(url, delimiter=',', dtype='float')\n",
    "\n",
    "np.random.seed(100)\n",
    "iris_2d[np.random.randint(150, size=20), np.random.randint(4, size=20)] = np.nan\n",
    "\n",
    "# find position and number of missings values in sepallenth \n",
    "np.isnan(iris_2d[:,0]).sum()\n",
    "np.where(np.isnan(iris_2d[:,0]))"
   ]
  }
 ],
 "metadata": {
  "kernelspec": {
   "display_name": "Python 3",
   "language": "python",
   "name": "python3"
  },
  "language_info": {
   "codemirror_mode": {
    "name": "ipython",
    "version": 3
   },
   "file_extension": ".py",
   "mimetype": "text/x-python",
   "name": "python",
   "nbconvert_exporter": "python",
   "pygments_lexer": "ipython3",
   "version": "3.9.0"
  },
  "orig_nbformat": 4
 },
 "nbformat": 4,
 "nbformat_minor": 2
}
