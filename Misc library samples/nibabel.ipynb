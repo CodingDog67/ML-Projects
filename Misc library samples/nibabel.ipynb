{
 "cells": [
  {
   "attachments": {},
   "cell_type": "markdown",
   "metadata": {},
   "source": [
    "Examples on how to work with nifti images via the help of the nibabel library\n",
    "\n",
    "a good source of sample datasets is: http://www.informatik.uni-leipzig.de/~wiebel/public_data/"
   ]
  },
  {
   "cell_type": "code",
   "execution_count": null,
   "metadata": {},
   "outputs": [],
   "source": [
    "import nibabel as nib\n",
    "\n",
    "example_img = nib.load(\"path/file.nii\")\n",
    "\n",
    "example_img.shape # x,y,z, num_volumes\n",
    "example_img = example_img.get_data()"
   ]
  }
 ],
 "metadata": {
  "language_info": {
   "name": "python"
  },
  "orig_nbformat": 4
 },
 "nbformat": 4,
 "nbformat_minor": 2
}
